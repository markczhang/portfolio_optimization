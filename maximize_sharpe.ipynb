{
 "cells": [
  {
   "cell_type": "code",
   "execution_count": 4,
   "metadata": {},
   "outputs": [],
   "source": [
    "import numpy as np\n",
    "import pandas as pd\n",
    "import yfinance as yf\n",
    "from scipy.optimize import minimize\n",
    "\n",
    "import matplotlib.pyplot as plt\n",
    "import seaborn as sns"
   ]
  },
  {
   "cell_type": "code",
   "execution_count": 5,
   "metadata": {},
   "outputs": [],
   "source": [
    "tickers = ['MSFT', 'AMZN', 'FB', 'NVDA', 'AAPL']"
   ]
  },
  {
   "cell_type": "code",
   "execution_count": 6,
   "metadata": {},
   "outputs": [],
   "source": [
    "def get_stock_returns(tickers, interval, time_period):\n",
    "    '''\n",
    "    Valid intervals: 1m, 2m, 5m, 15m, 30m, 60m, 90m, 1h, 1d, 5d, 1wk, 1mo, 3mo\n",
    "    '''\n",
    "    stock_returns = list()\n",
    "    for ticker in tickers:\n",
    "        stock = yf.Ticker(ticker)\n",
    "        print('Retrieve stock price for: ', ticker)\n",
    "        stock_returns.append(stock.history(interval=interval, period=time_period).Close.dropna().pct_change().fillna(0))\n",
    "    return np.array(stock_returns)\n",
    "\n",
    "def data_process(returns, normalizing_factor=252):\n",
    "    '''\n",
    "    Normalizing factor by default adjusts to the annualized data\n",
    "    '''\n",
    "    covariance_matrix = np.cov(returns) * normalizing_factor\n",
    "    expected_returns = np.mean(returns, axis=1) * normalizing_factor\n",
    "    return covariance_matrix, expected_returns"
   ]
  },
  {
   "cell_type": "code",
   "execution_count": 7,
   "metadata": {},
   "outputs": [
    {
     "name": "stdout",
     "output_type": "stream",
     "text": [
      "Retrieve stock price for:  MSFT\n",
      "Retrieve stock price for:  AMZN\n",
      "Retrieve stock price for:  FB\n",
      "Retrieve stock price for:  NVDA\n",
      "Retrieve stock price for:  AAPL\n"
     ]
    }
   ],
   "source": [
    "stock_returns = get_stock_returns(tickers, interval='1d', time_period='5y')\n",
    "Q, expected_returns = data_process(stock_returns, normalizing_factor=1)"
   ]
  },
  {
   "cell_type": "code",
   "execution_count": 9,
   "metadata": {},
   "outputs": [
    {
     "data": {
      "text/plain": [
       "<matplotlib.axes._subplots.AxesSubplot at 0x1bbc9fb3d60>"
      ]
     },
     "execution_count": 9,
     "metadata": {},
     "output_type": "execute_result"
    },
    {
     "data": {
      "image/png": "[encoded data removed]",
      "text/plain": [
       "<Figure size 842.4x595.44 with 1 Axes>"
      ]
     },
     "metadata": {},
     "output_type": "display_data"
    }
   ],
   "source": [
    "sns.set(rc={'figure.figsize':(11.7,8.27)})\n",
    "sns.distplot(stock_returns[2], bins=200, kde=False)"
   ]
  },
  {
   "cell_type": "code",
   "execution_count": 10,
   "metadata": {},
   "outputs": [],
   "source": [
    "def objective(w):\n",
    "    return -1 * (np.dot(expected_returns, w) / np.dot(np.dot(w, Q), w))"
   ]
  },
  {
   "cell_type": "code",
   "execution_count": 11,
   "metadata": {},
   "outputs": [],
   "source": [
    "def constraint_1(w):\n",
    "    return w.sum() - 1.0"
   ]
  },
  {
   "cell_type": "code",
   "execution_count": 12,
   "metadata": {},
   "outputs": [],
   "source": [
    "w0 = np.random.uniform(high=1 / len(tickers), size=len(tickers))\n",
    "bounds = ([(0.01, 0.5)] * len(tickers))\n",
    "cons = [{'type': 'eq', 'fun': constraint_1}]"
   ]
  },
  {
   "cell_type": "markdown",
   "metadata": {},
   "source": [
    "## Solve The Equation "
   ]
  },
  {
   "cell_type": "code",
   "execution_count": 13,
   "metadata": {},
   "outputs": [
    {
     "data": {
      "text/plain": [
       "     fun: -5.990497432502714\n",
       "     jac: array([5.98686534, 5.98665416, 6.35466075, 5.98748577, 5.98657578])\n",
       " message: 'Optimization terminated successfully.'\n",
       "    nfev: 78\n",
       "     nit: 11\n",
       "    njev: 11\n",
       "  status: 0\n",
       " success: True\n",
       "       x: array([0.28788247, 0.35106358, 0.01      , 0.14276071, 0.20829324])"
      ]
     },
     "execution_count": 13,
     "metadata": {},
     "output_type": "execute_result"
    }
   ],
   "source": [
    "sol = minimize(objective, w0, method='SLSQP', bounds=bounds, constraints=cons)\n",
    "sol"
   ]
  },
  {
   "cell_type": "code",
   "execution_count": 16,
   "metadata": {},
   "outputs": [
    {
     "data": {
      "text/plain": [
       "float"
      ]
     },
     "execution_count": 16,
     "metadata": {},
     "output_type": "execute_result"
    }
   ],
   "source": [
    "sol.fun"
   ]
  }
 ],
 "metadata": {
  "kernelspec": {
   "display_name": "Python 3",
   "language": "python",
   "name": "python3"
  },
  "language_info": {
   "codemirror_mode": {
    "name": "ipython",
    "version": 3
   },
   "file_extension": ".py",
   "mimetype": "text/x-python",
   "name": "python",
   "nbconvert_exporter": "python",
   "pygments_lexer": "ipython3",
   "version": "3.8.3"
  }
 },
 "nbformat": 4,
 "nbformat_minor": 4
}
