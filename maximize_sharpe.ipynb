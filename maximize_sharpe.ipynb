{
 "cells": [
  {
   "cell_type": "code",
   "execution_count": 95,
   "metadata": {},
   "outputs": [],
   "source": [
    "import numpy as np\n",
    "import pandas as pd\n",
    "import yfinance as yf\n",
    "from scipy.optimize import minimize"
   ]
  },
  {
   "cell_type": "code",
   "execution_count": 97,
   "metadata": {},
   "outputs": [],
   "source": [
    "tickers = ['MSFT', 'AMZN', 'FB', 'NVDA', 'AAPL', 'TSLA']"
   ]
  },
  {
   "cell_type": "code",
   "execution_count": 98,
   "metadata": {},
   "outputs": [],
   "source": [
    "def get_stock_returns(tickers, interval, time_period):\n",
    "    '''\n",
    "    Valid intervals: 1m, 2m, 5m, 15m, 30m, 60m, 90m, 1h, 1d, 5d, 1wk, 1mo, 3mo\n",
    "    '''\n",
    "    stock_returns = list()\n",
    "    for ticker in tickers:\n",
    "        stock = yf.Ticker(ticker)\n",
    "        print('Retrieve stock price for: ', ticker)\n",
    "        stock_returns.append(stock.history(interval=interval, period=time_period).Close.dropna().pct_change().fillna(0))\n",
    "    return np.array(stock_returns)\n",
    "\n",
    "def data_process(returns, normalizing_factor=252):\n",
    "    '''\n",
    "    Normalizing factor by default adjusts to the annualized data\n",
    "    '''\n",
    "    covariance_matrix = np.cov(returns) * normalizing_factor\n",
    "    expected_returns = np.mean(returns, axis=1) * normalizing_factor\n",
    "    return covariance_matrix, expected_returns"
   ]
  },
  {
   "cell_type": "code",
   "execution_count": 99,
   "metadata": {},
   "outputs": [
    {
     "name": "stdout",
     "output_type": "stream",
     "text": [
      "Retrieve stock price for:  MSFT\n",
      "Retrieve stock price for:  AMZN\n",
      "Retrieve stock price for:  FB\n",
      "Retrieve stock price for:  NVDA\n",
      "Retrieve stock price for:  AAPL\n",
      "Retrieve stock price for:  TSLA\n"
     ]
    }
   ],
   "source": [
    "stock_returns = get_stock_returns(tickers, interval='1d', time_period='1y')\n",
    "Q, expected_returns = data_process(stock_returns, normalizing_factor=1)"
   ]
  },
  {
   "cell_type": "code",
   "execution_count": 100,
   "metadata": {},
   "outputs": [],
   "source": [
    "def objective(w):\n",
    "    return -1 * (np.dot(expected_returns, w) / np.dot(np.dot(w, Q), w))"
   ]
  },
  {
   "cell_type": "code",
   "execution_count": 101,
   "metadata": {},
   "outputs": [],
   "source": [
    "def constraint_1(w):\n",
    "    return w.sum() - 1.0"
   ]
  },
  {
   "cell_type": "code",
   "execution_count": 104,
   "metadata": {},
   "outputs": [],
   "source": [
    "w0 = np.random.uniform(high=1 / len(tickers), size=len(tickers))\n",
    "bounds = ([(0.01, 0.5)] * len(tickers))\n",
    "cons = [{'type': 'eq', 'fun': constraint_1}]"
   ]
  }
 ],
 "metadata": {
  "kernelspec": {
   "display_name": "Python 3",
   "language": "python",
   "name": "python3"
  },
  "language_info": {
   "codemirror_mode": {
    "name": "ipython",
    "version": 3
   },
   "file_extension": ".py",
   "mimetype": "text/x-python",
   "name": "python",
   "nbconvert_exporter": "python",
   "pygments_lexer": "ipython3",
   "version": "3.8.3"
  }
 },
 "nbformat": 4,
 "nbformat_minor": 4
}
