{
 "cells": [
  {
   "cell_type": "code",
   "execution_count": 67,
   "metadata": {},
   "outputs": [],
   "source": [
    "import numpy as np\n",
    "import pandas as pd\n",
    "import yfinance as yf\n",
    "from scipy.optimize import minimize\n",
    "\n",
    "import matplotlib.pyplot as plt\n",
    "import seaborn as sns"
   ]
  },
  {
   "cell_type": "code",
   "execution_count": 68,
   "metadata": {},
   "outputs": [],
   "source": [
    "tickers = ['MSFT', 'AMZN', 'FB', 'NVDA', 'AAPL', 'GLD', 'BND', 'V', 'NEE', 'LMT', 'COST']"
   ]
  },
  {
   "cell_type": "code",
   "execution_count": 69,
   "metadata": {},
   "outputs": [],
   "source": [
    "def get_stock_returns(tickers, interval, time_period):\n",
    "    '''\n",
    "    Valid intervals: 1m, 2m, 5m, 15m, 30m, 60m, 90m, 1h, 1d, 5d, 1wk, 1mo, 3mo\n",
    "    '''\n",
    "    stock_returns = list()\n",
    "    for ticker in tickers:\n",
    "        stock = yf.Ticker(ticker)\n",
    "        print('Retrieve stock price for: ', ticker)\n",
    "        stock_returns.append(stock.history(interval=interval, period=time_period).Close.dropna().pct_change().fillna(0))\n",
    "    return np.array(stock_returns)\n",
    "\n",
    "def data_process(returns, normalizing_factor=252):\n",
    "    '''\n",
    "    Normalizing factor by default adjusts to the annualized data\n",
    "    '''\n",
    "    covariance_matrix = np.cov(returns) * normalizing_factor\n",
    "    expected_returns = np.mean(returns, axis=1) * normalizing_factor\n",
    "    return covariance_matrix, expected_returns"
   ]
  },
  {
   "cell_type": "code",
   "execution_count": 70,
   "metadata": {},
   "outputs": [
    {
     "name": "stdout",
     "output_type": "stream",
     "text": [
      "Retrieve stock price for:  MSFT\n",
      "Retrieve stock price for:  AMZN\n",
      "Retrieve stock price for:  FB\n",
      "Retrieve stock price for:  NVDA\n",
      "Retrieve stock price for:  AAPL\n",
      "Retrieve stock price for:  GLD\n",
      "Retrieve stock price for:  BND\n",
      "Retrieve stock price for:  V\n",
      "Retrieve stock price for:  NEE\n",
      "Retrieve stock price for:  LMT\n",
      "Retrieve stock price for:  COST\n"
     ]
    }
   ],
   "source": [
    "stock_returns = get_stock_returns(tickers, interval='1mo', time_period='3y')\n",
    "Q, expected_returns = data_process(stock_returns, normalizing_factor=1)"
   ]
  },
  {
   "cell_type": "markdown",
   "metadata": {},
   "source": [
    "## Draw Efficneit Frontier"
   ]
  },
  {
   "cell_type": "code",
   "execution_count": 71,
   "metadata": {},
   "outputs": [],
   "source": [
    "max_var = np.var(stock_returns, axis=1).max()\n",
    "min_var = np.var(stock_returns, axis=1).min()\n",
    "inc_var = (max_var - min_var) / 100\n",
    "\n",
    "# Initialize the portfolio variance to be the minimum possible variance as starting point of the frontier\n",
    "portfolio_variance = min_var\n",
    "x = list()\n",
    "y = list()"
   ]
  },
  {
   "cell_type": "code",
   "execution_count": 72,
   "metadata": {},
   "outputs": [],
   "source": [
    "def objective(w):\n",
    "    return -1 * (np.dot(expected_returns, w))\n",
    "\n",
    "def constraint_1(w):\n",
    "    return w.sum() - 1.0\n",
    "\n",
    "def constraint_2(w):\n",
    "    return portfolio_variance - np.dot(np.dot(w, Q), w)\n",
    "\n",
    "w0 = np.random.uniform(high=1 / len(tickers), size=len(tickers))\n",
    "bounds = ([(0.0, 1.0)] * len(tickers))\n",
    "cons = [{'type': 'eq', 'fun': constraint_1},\n",
    "        {'type': 'ineq', 'fun': constraint_2}]\n",
    "\n",
    "opti_results = list()"
   ]
  },
  {
   "cell_type": "code",
   "execution_count": 73,
   "metadata": {
    "scrolled": true
   },
   "outputs": [],
   "source": [
    "for i in range(100):\n",
    "    sol = minimize(objective, w0, method='SLSQP', bounds=bounds, constraints=cons)\n",
    "    x.append(portfolio_variance)\n",
    "    y.append(-1 * sol.fun)\n",
    "    opti_results.append(sol)\n",
    "    portfolio_variance += inc_var"
   ]
  },
  {
   "cell_type": "code",
   "execution_count": 76,
   "metadata": {},
   "outputs": [
    {
     "data": {
      "image/png": "[encoded data removed]",
      "text/plain": [
       "<Figure size 842.4x595.44 with 1 Axes>"
      ]
     },
     "metadata": {},
     "output_type": "display_data"
    }
   ],
   "source": [
    "sns.set(rc={'figure.figsize':(11.7,8.27)})\n",
    "sns.lineplot(x, y);"
   ]
  }
 ],
 "metadata": {
  "kernelspec": {
   "display_name": "Python 3",
   "language": "python",
   "name": "python3"
  },
  "language_info": {
   "codemirror_mode": {
    "name": "ipython",
    "version": 3
   },
   "file_extension": ".py",
   "mimetype": "text/x-python",
   "name": "python",
   "nbconvert_exporter": "python",
   "pygments_lexer": "ipython3",
   "version": "3.8.3"
  }
 },
 "nbformat": 4,
 "nbformat_minor": 4
}
